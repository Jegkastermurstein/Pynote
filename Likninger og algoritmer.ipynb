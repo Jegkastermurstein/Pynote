{
 "cells": [
  {
   "cell_type": "markdown",
   "metadata": {},
   "source": [
    "## Likninger\n",
    "###### I dag skal vi løse noen gode gammeldagse likninger\n",
    "#### Halveringsmetoden\n"
   ]
  },
  {
   "cell_type": "code",
   "execution_count": null,
   "metadata": {},
   "outputs": [],
   "source": [
    "\n",
    "\n",
    "def  f(x):\n",
    "    return 2*x - 2\n",
    "     \n",
    "\n",
    "\n",
    "a = -14\n",
    "b = 12\n",
    "m = (a+b)/2\n",
    "runder = 0\n",
    "\n",
    "tol = 1E-9\n",
    "\n",
    "while abs(f(m)) > tol:\n",
    "    runder += 1\n",
    "    if f(a)*f(m) < 0:\n",
    "        b = m\n",
    "    elif f(b)*f(m) <0:\n",
    "         a=m\n",
    "    m = (a+b)/2\n",
    "    \n",
    "    \n",
    "print(m)\n",
    "print(runder)"
   ]
  },
  {
   "cell_type": "code",
   "execution_count": null,
   "metadata": {},
   "outputs": [],
   "source": [
    "#halveringsmetoden som en funksjon\n",
    "\n",
    "\n",
    "a = -14\n",
    "b = 12\n",
    "m = (a+b)/2\n",
    "runder = 0\n",
    "tol = 1E-9\n",
    "\n",
    "def  f(x):\n",
    "    return 2*x - 2\n",
    "\n",
    "     \n",
    "def div(a, b, f, tol=1E-10):\n",
    "    m = (a+b)/2\n",
    "    i = 0\n",
    "    while abs(f(m)) > tol:\n",
    "        runder += 1\n",
    "        if f(a)*f(m) < 0:\n",
    "            b = m\n",
    "        elif f(b)*f(m) <0:\n",
    "             a=m\n",
    "        m = (a+b)/2\n",
    "        i += 1\n",
    "    return m, i\n",
    "\n",
    "a = div(-5, 10, f)\n",
    "\n",
    "print(a)"
   ]
  },
  {
   "cell_type": "markdown",
   "metadata": {},
   "source": [
    "## Metode nummer 2:\n",
    "\n",
    "#### Newtons metode:\n",
    "\n",
    "\n",
    "Vi har en kontinuerlig funksjon \"f\". Vi tilnærmer nullpunktet til \"f\" med nullpunktet til tangentene til f(x), T(x)\n",
    "\n",
    "y - y1 = a(x-x1)\n",
    "\n",
    "y = y1 + a(x-x1)\n",
    "\n",
    "y = y1 + f'(x1)* a(x-x1)\n",
    "\n",
    "0 = f(x1) + f'(x1)*(x-x1)\n",
    "\n",
    "f(x1)/f'(x1) = x- x1\n",
    "\n",
    "x = x1 - f(x1)/f'(x1)\n",
    "\n",
    "vi ender opp med dette:\n",
    "\n",
    "$$x_n+1 = x_n -f(x_n)/f'(x_n)$$\n"
   ]
  },
  {
   "cell_type": "code",
   "execution_count": null,
   "metadata": {},
   "outputs": [],
   "source": [
    "def f(x):\n",
    "    return 2**x-4\n",
    "\n",
    "def fder(x):\n",
    "    return 2*x\n",
    "\n",
    "x = 5\n",
    "tol = 1E-10\n",
    "runder = 0\n",
    "\n",
    "def newtons(f, fder, x, tol=1E-8, N=100):\n",
    "    i = 0\n",
    "    while abs(f(x)) > tol and i < 100:\n",
    "        x = x - f(x)/fder(x)\n",
    "        i += 1\n",
    "    return x, i\n",
    "\n",
    "\n",
    "\n",
    "nullpunkt, antall = newtons(f, fder, 2000)\n",
    "\n",
    "\n",
    "print(\"Nullpunktet ligger i: \", nullpunkt, \"regnet\", antall, \"ganger.\")"
   ]
  },
  {
   "cell_type": "markdown",
   "metadata": {},
   "source": [
    "Denne metoden har noen ulemper. Man må vite hva den deriverte er, og man risikerer å få et topp- eller bunnpunkt der den deriverte er lik null\n"
   ]
  },
  {
   "cell_type": "code",
   "execution_count": null,
   "metadata": {},
   "outputs": [],
   "source": []
  }
 ],
 "metadata": {
  "kernelspec": {
   "display_name": "Python 3",
   "language": "python",
   "name": "python3"
  },
  "language_info": {
   "codemirror_mode": {
    "name": "ipython",
    "version": 3
   },
   "file_extension": ".py",
   "mimetype": "text/x-python",
   "name": "python",
   "nbconvert_exporter": "python",
   "pygments_lexer": "ipython3",
   "version": "3.7.3"
  }
 },
 "nbformat": 4,
 "nbformat_minor": 2
}
